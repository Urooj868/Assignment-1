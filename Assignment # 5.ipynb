{
 "cells": [
  {
   "cell_type": "code",
   "execution_count": 12,
   "metadata": {},
   "outputs": [
    {
     "name": "stdout",
     "output_type": "stream",
     "text": [
      "Enter your number for factorial: 5\n",
      "Factorial of your number is  120\n"
     ]
    }
   ],
   "source": [
    "def factorial(x):\n",
    "    if x==0:\n",
    "     return 1\n",
    "    else:\n",
    "     return x*factorial(x-1)\n",
    "number=int(input(\"Enter your number for factorial: \"))\n",
    "print(\"Factorial of your number is \",factorial(number))"
   ]
  },
  {
   "cell_type": "code",
   "execution_count": 15,
   "metadata": {},
   "outputs": [
    {
     "name": "stdout",
     "output_type": "stream",
     "text": [
      "No. of Upper Case Characters: 4 \n",
      "No. of Lower Case Characters : 14\n"
     ]
    }
   ],
   "source": [
    "def function(s):\n",
    "    upper=sum(1 for i in s if i.isupper())\n",
    "    lower=sum(1 for i in s if i.islower())\n",
    "    print(\"No. of Upper Case Characters: %s \\nNo. of Lower Case Characters : %s\"%(upper,lower))\n",
    "    \n",
    "function(\"Hi! Iam Python Student\")   "
   ]
  },
  {
   "cell_type": "code",
   "execution_count": 21,
   "metadata": {},
   "outputs": [
    {
     "name": "stdout",
     "output_type": "stream",
     "text": [
      "2\n",
      "4\n",
      "6\n",
      "6\n"
     ]
    }
   ],
   "source": [
    "list=[2,4,5,6,6,45]\n",
    "def function():\n",
    "    for a in list:\n",
    "        if a%2==0:\n",
    "            print(a)\n",
    "function()        "
   ]
  },
  {
   "cell_type": "code",
   "execution_count": 24,
   "metadata": {},
   "outputs": [
    {
     "name": "stdout",
     "output_type": "stream",
     "text": [
      "yes\n"
     ]
    }
   ],
   "source": [
    "def reverse(s):\n",
    "    return s [::-1]\n",
    "\n",
    "def isPalindrome(s):\n",
    "    #Calling Reverse Function\n",
    "    rev = reverse(s)\n",
    "    \n",
    "    #Checking if both string are equal or not\n",
    "    if (s==rev):\n",
    "        return True\n",
    "    return False\n",
    "\n",
    "string=\"malayalam\"\n",
    "ans= isPalindrome(string)\n",
    "\n",
    "if ans==1:\n",
    "    print (\"yes\")\n",
    "else:\n",
    "    print(\"no\")"
   ]
  },
  {
   "cell_type": "code",
   "execution_count": 26,
   "metadata": {},
   "outputs": [
    {
     "name": "stdout",
     "output_type": "stream",
     "text": [
      "7 is prime number!\n"
     ]
    }
   ],
   "source": [
    "def test_prime(n):\n",
    "    if (n>1):\n",
    "        for x in range(2,n):\n",
    "            if(n%x==0):\n",
    "                print(n,\"is not prime number!\")\n",
    "                break\n",
    "        else:\n",
    "            print(n,\"is prime number!\")\n",
    "test_prime(7)"
   ]
  },
  {
   "cell_type": "code",
   "execution_count": 29,
   "metadata": {},
   "outputs": [
    {
     "name": "stdout",
     "output_type": "stream",
     "text": [
      "\n",
      "Enter the item you bought from market \n",
      "If you leave enter quit:Rice\n",
      "\n",
      "Enter the item you bought from market \n",
      "If you leave enter quit:Butter\n",
      "\n",
      "Enter the item you bought from market \n",
      "If you leave enter quit:Eggs\n",
      "\n",
      "Enter the item you bought from market \n",
      "If you leave enter quit:Milk\n",
      "\n",
      "Enter the item you bought from market \n",
      "If you leave enter quit:Liquid\n",
      "\n",
      "Enter the item you bought from market \n",
      "If you leave enter quit:Helllo\n",
      "\n",
      "Enter the item you bought from market \n",
      "If you leave enter quit:quit\n",
      "\n",
      "---------------Shopping List---------------\n",
      "you bought:  ['Rice', 'Butter', 'Eggs', 'Milk', 'Liquid', 'Helllo']\n"
     ]
    }
   ],
   "source": [
    "def customer_shopping(*shopping_list):\n",
    "    print(\"\\n---------------Shopping List---------------\")\n",
    "    for element in shopping_list:\n",
    "        print(\"you bought: \",element)\n",
    "        \n",
    "shopping_list=[]\n",
    "\n",
    "while True:\n",
    "    items= input(\"\\nEnter the item you bought from market \\nIf you leave enter quit:\")\n",
    "    if items == 'quit' :\n",
    "        break\n",
    "    shopping_list.append(items)\n",
    "    \n",
    "customer_shopping(shopping_list)"
   ]
  },
  {
   "cell_type": "code",
   "execution_count": null,
   "metadata": {},
   "outputs": [],
   "source": []
  }
 ],
 "metadata": {
  "kernelspec": {
   "display_name": "Python 3",
   "language": "python",
   "name": "python3"
  },
  "language_info": {
   "codemirror_mode": {
    "name": "ipython",
    "version": 3
   },
   "file_extension": ".py",
   "mimetype": "text/x-python",
   "name": "python",
   "nbconvert_exporter": "python",
   "pygments_lexer": "ipython3",
   "version": "3.7.4"
  }
 },
 "nbformat": 4,
 "nbformat_minor": 2
}
