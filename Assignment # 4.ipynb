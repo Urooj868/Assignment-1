{
 "cells": [
  {
   "cell_type": "code",
   "execution_count": 1,
   "metadata": {},
   "outputs": [
    {
     "name": "stdout",
     "output_type": "stream",
     "text": [
      "Nabeel\n",
      "Ahmed\n",
      "18\n",
      "Karachi\n",
      "{'first_name': 'Nabeel', 'last_name': 'Ahmed', 'age': 18, 'city': 'Karachi', 'qualification': 'Matric'}\n",
      "{'first_name': 'Nabeel', 'last_name': 'Ahmed', 'age': 18, 'city': 'Karachi', 'qualification': 'Intermediate'}\n",
      "{'first_name': 'Nabeel', 'last_name': 'Ahmed', 'age': 18, 'city': 'Karachi'}\n"
     ]
    }
   ],
   "source": [
    "dict = {\n",
    "    \"first_name\": \"Nabeel\",\n",
    "    \"last_name\": \"Ahmed\",\n",
    "    \"age\": 18,\n",
    "    \"city\": \"Karachi\",\n",
    "    \n",
    "}\n",
    "print(dict[\"first_name\"])\n",
    "print(dict[\"last_name\"])\n",
    "print(dict[\"age\"])\n",
    "print(dict[\"city\"])\n",
    "\n",
    "dict[\"qualification\"]=\"Matric\"\n",
    "print(dict)\n",
    "\n",
    "dict[\"qualification\"]=\"Intermediate\"\n",
    "print(dict)\n",
    "\n",
    "del dict[\"qualification\"]\n",
    "print(dict)"
   ]
  },
  {
   "cell_type": "code",
   "execution_count": 2,
   "metadata": {},
   "outputs": [
    {
     "name": "stdout",
     "output_type": "stream",
     "text": [
      "Karachi: {'country': 'Pakistan', 'population': '14.91 million', 'fact': 'Its called city of light'}\n",
      "\n",
      "New York: {'country': 'America', 'population': '8.623 million', 'fact': 'The Empire State building gets hit by lightning about 23 times per year.'}\n",
      "\n",
      "Dhaka: {'country': 'Bangladesh', 'population': '8.906 million', 'fact': 'It has great textile production'}\n"
     ]
    }
   ],
   "source": [
    "cities = {\n",
    "    \"Karachi\": {\n",
    "    \"country\": \"Pakistan\",\n",
    "    \"population\": \"14.91 million\",\n",
    "    \"fact\": \"Its called city of light\",\n",
    "},\n",
    "    \"New York\": {\n",
    "    \"country\": \"America\",\n",
    "    \"population\": \"8.623 million\",\n",
    "    \"fact\": \"The Empire State building gets hit by lightning about 23 times per year.\",\n",
    "},\n",
    "    \"Dhaka\": {\n",
    "    \"country\": \"Bangladesh\",\n",
    "    \"population\": \"8.906 million\",\n",
    "    \"fact\": \"It has great textile production\",\n",
    "},\n",
    "}\n",
    "\n",
    "print(\"Karachi:\", cities[\"Karachi\"])\n",
    "\n",
    "print(\"\\nNew York:\", cities[\"New York\"])\n",
    "\n",
    "print(\"\\nDhaka:\" ,cities[\"Dhaka\"])\n"
   ]
  },
  {
   "cell_type": "code",
   "execution_count": 4,
   "metadata": {},
   "outputs": [
    {
     "name": "stdout",
     "output_type": "stream",
     "text": [
      "CHECK YOUR TICKET PRICE\n",
      "Enter Your Age: \n",
      "13\n",
      "Ticket Price: $15\n",
      "12\n",
      "Ticket Price: $10\n",
      "2\n",
      "Ticket Price: Free\n",
      "90\n",
      "Ticket Price: $15\n",
      "56\n",
      "Ticket Price: $15\n"
     ]
    }
   ],
   "source": [
    "print(\"CHECK YOUR TICKET PRICE\")\n",
    "print(\"Enter Your Age: \")\n",
    "for x in range (5):\n",
    " age = int(input())\n",
    " if age <= 3 :\n",
    "    print(\"Ticket Price: Free\")\n",
    " elif age >= 3 and age<= 12:\n",
    "    print(\"Ticket Price: $10\")\n",
    " else :\n",
    "    print(\"Ticket Price: $15\")"
   ]
  },
  {
   "cell_type": "code",
   "execution_count": 6,
   "metadata": {},
   "outputs": [
    {
     "name": "stdout",
     "output_type": "stream",
     "text": [
      "My favourite book is  Harry Potter\n"
     ]
    }
   ],
   "source": [
    "def favorite_book(a):\n",
    "    print(\"My favourite book is \",a)\n",
    "favorite_book(\"Harry Potter\")"
   ]
  },
  {
   "cell_type": "code",
   "execution_count": 16,
   "metadata": {},
   "outputs": [
    {
     "name": "stdout",
     "output_type": "stream",
     "text": [
      "NUMBER GAME\n",
      "Guess The Number from 0 to 30\n",
      "You Have 3 chances\n",
      "25\n",
      "Number is smaller than your input\n",
      "15\n",
      "Number is greater than your answer\n",
      "20\n",
      "Number is greater than your answer\n"
     ]
    }
   ],
   "source": [
    "from random import randint\n",
    "value = randint (0, 30)\n",
    "print(\"NUMBER GAME\\nGuess The Number from 0 to 30\\nYou Have 3 chances\")\n",
    "for x in range(3):\n",
    " ans=int(input())\n",
    " if (ans < value):\n",
    "    print(\"Number is greater than your answer\")\n",
    " elif (ans > value):\n",
    "        print(\"Number is smaller than your input\")\n",
    " else:\n",
    "            print(\"CORRECT!\")\n",
    "\n"
   ]
  },
  {
   "cell_type": "code",
   "execution_count": null,
   "metadata": {},
   "outputs": [],
   "source": []
  }
 ],
 "metadata": {
  "kernelspec": {
   "display_name": "Python 3",
   "language": "python",
   "name": "python3"
  },
  "language_info": {
   "codemirror_mode": {
    "name": "ipython",
    "version": 3
   },
   "file_extension": ".py",
   "mimetype": "text/x-python",
   "name": "python",
   "nbconvert_exporter": "python",
   "pygments_lexer": "ipython3",
   "version": "3.7.4"
  }
 },
 "nbformat": 4,
 "nbformat_minor": 2
}
