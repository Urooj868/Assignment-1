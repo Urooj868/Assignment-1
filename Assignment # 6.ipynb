{
 "cells": [
  {
   "cell_type": "markdown",
   "metadata": {},
   "source": [
    "# Question 1\n",
    "### Object-oriented programming (OOP) refers to a type of computer programming (software design) in which programmers define the data type of a data structure, and also the types of operations (functions) that can be applied to the data structure."
   ]
  },
  {
   "cell_type": "markdown",
   "metadata": {},
   "source": [
    "# Question 2\n",
    "### -It provides a clear modular structure for programs which makes it good for defining abstract datatypes in which implementation details are hidden.\n",
    "### -Objects can also be reused within an across applications. ...\n",
    "### -It makes software easier to maintain. ...\n",
    "### -Reuse also enables faster development."
   ]
  },
  {
   "cell_type": "markdown",
   "metadata": {},
   "source": [
    "# Question 3\n",
    "### A function is a piece of code that is called by name. It can be passed data to operate on (i.e. the parameters) and can optionally return data (the return value). All data that is passed to a function is explicitly passed.\n",
    "\n",
    "### A method is a piece of code that is called by a name that is associated with an object. In most respects it is identical to a function except for two key differences:\n",
    "\n",
    "#### 1.A method is implicitly passed the object on which it was called.\n",
    "#### 2.A method is able to operate on data that is contained within the class (remembering that an object is an instance of a class - the class is the definition, the object is an instance of that data)."
   ]
  },
  {
   "cell_type": "markdown",
   "metadata": {},
   "source": [
    "# Question 4\n",
    "### CLASS\n",
    "#### A class is a blueprint for creating objects (a particular data structure), providing initial values for state (member variables or attributes), and implementations of behavior (member functions or methods).\n",
    "\n",
    "### OBJECT\n",
    "#### Objects are the things you think about first in designing a program and they are also the units of code that are eventually derived from the process.\n",
    "\n",
    "### ATTRIBUTE\n",
    "#### Attributes are data stored inside a class or instance and represent the state or quality of the class or instance. In short, attributes store information about the instance.\n",
    "\n",
    "### BEHAVIOUR\n",
    "#### A class's behavior determines how an instance of that class operates; for example, how it will \"react\" if asked to do something by another class or object or if its internal state changes."
   ]
  },
  {
   "cell_type": "code",
   "execution_count": 10,
   "metadata": {},
   "outputs": [],
   "source": [
    "class Car:\n",
    "    def __init__(name,make,model,color,engine):\n",
    "        name=\"C200\"\n",
    "        make=\"Mercedes\"\n",
    "        model=\"2019\"\n",
    "        color=\"Black\"\n",
    "        engine=\"1600CC\"\n",
    "    \n",
    "    def method1():\n",
    "        print(name)\n",
    "    def method2():\n",
    "        print(make)\n",
    "    def method3():\n",
    "        print(color)\n",
    "        "
   ]
  },
  {
   "cell_type": "code",
   "execution_count": null,
   "metadata": {},
   "outputs": [],
   "source": []
  }
 ],
 "metadata": {
  "kernelspec": {
   "display_name": "Python 3",
   "language": "python",
   "name": "python3"
  },
  "language_info": {
   "codemirror_mode": {
    "name": "ipython",
    "version": 3
   },
   "file_extension": ".py",
   "mimetype": "text/x-python",
   "name": "python",
   "nbconvert_exporter": "python",
   "pygments_lexer": "ipython3",
   "version": "3.7.4"
  }
 },
 "nbformat": 4,
 "nbformat_minor": 2
}
